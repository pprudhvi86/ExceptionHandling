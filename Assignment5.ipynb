{
  "cells": [
    {
      "cell_type": "code",
      "execution_count": null,
      "metadata": {
        "id": "w8oXZqRDrY8b"
      },
      "outputs": [],
      "source": []
    },
    {
      "cell_type": "markdown",
      "metadata": {
        "id": "HhVy8wcgrl1g"
      },
      "source": [
        "Q1. What is the difference between interpreted and compiled languages?\n",
        "\n",
        "Ans:The Key differences between Interpreted and compiled languages in how the source code is translated into machine code.\n",
        "\n",
        "Compiled Language:The entire program is translated into machine code by a compiler before it is run.\n",
        "E.g:C,C++\n",
        "\n",
        "\n",
        "Interpreted Languages:Code is executed line by line by an interpreter at runtime\n",
        "E.g:Python\n"
      ]
    },
    {
      "cell_type": "markdown",
      "metadata": {
        "id": "DmExX7mjwPl8"
      },
      "source": [
        "Q2. What is exception handling in Python?\n",
        "\n",
        "Ans: Exceptional handling in python is a way to handle errors and exceptions that occur during the execution of a program."
      ]
    },
    {
      "cell_type": "markdown",
      "metadata": {
        "id": "CQRoH3C4wRs-"
      },
      "source": [
        "Q3.What is the purpose of the finally block in exception handling?\n",
        "\n",
        "Ans: The finally block is used to define code that should always  run no matter what happens whether an exception is raised or not."
      ]
    },
    {
      "cell_type": "markdown",
      "metadata": {
        "id": "0M0aqgl2xOqa"
      },
      "source": [
        "Q4. What is logging in Python ?\n",
        "\n",
        "Ans: Logging in python is a way to track events that happens while your code runs.its like writing messages to a diary or log file to help you understand what your program is doing and debug issues more easily."
      ]
    },
    {
      "cell_type": "markdown",
      "metadata": {
        "id": "WsclGnRLx8WH"
      },
      "source": [
        "Q5. What is the significance of the __del__ method in Python?\n",
        "\n",
        "Ans:The __ del __ method in python is a special method called a destructor.It is automatically called when an object is about to be destroyed.When its reference count drops to zero and pythons garbage collector decides to delete it."
      ]
    },
    {
      "cell_type": "markdown",
      "metadata": {
        "id": "wlUwZtM2y0m7"
      },
      "source": [
        "Q6.What is the difference between import and from ... import in Python?\n",
        "\n",
        "Ans:Both import and ... import are used to bring in external code into your current python program .The difference  lies in how much you import,and how you access it."
      ]
    },
    {
      "cell_type": "markdown",
      "metadata": {
        "id": "DlbAfBFw0Qog"
      },
      "source": [
        "Q7.How can you handle multiple exceptions in Python?\n",
        "\n",
        "Ans : In python we can handle multiple exceptions in a single try: block using multiple either:"
      ]
    },
    {
      "cell_type": "markdown",
      "metadata": {
        "id": "Pz3mWpdN1UUl"
      },
      "source": [
        "Q8.What is the purpose of the with statement when handling files in Python?\n",
        "\n",
        "Ans: The wiith statementin python is used to manage resources like in a safe and clean way.\n",
        "\n",
        "* Automatically opens and closes a file.\n",
        "* Ensures the file is properly closed even if a error has occured.\n",
        "* Simplifies the code  and avoids forgetting to call .close()\n",
        "\n"
      ]
    },
    {
      "cell_type": "markdown",
      "metadata": {
        "id": "5euWkcwj2hH6"
      },
      "source": [
        "Q9.  What is the difference between multithreading and multiprocessing?\n",
        "\n",
        "Ans.Both multithreading and multiprocessing are techniques for concurrent execution but they are fundamentally different in how they acheive it.\n",
        "\n",
        "Multithreading:\n",
        " * Runs multiple threads within same process .\n",
        " * They share the same memory space.\n",
        " * Best for I/O - bound tasks\n",
        "\n",
        "Multiprocessing:\n",
        " * Runs multiple processes,eah with its own memory space.\n",
        " * True parallelism on multiple cpu  cores.\n",
        " * Best for CPU - bound tasks"
      ]
    },
    {
      "cell_type": "markdown",
      "metadata": {
        "id": "hBbqWlQG34Pq"
      },
      "source": [
        "Q10 What are the advantages of using logging in a program?\n",
        "\n",
        "Ans:  the advantages of using logging in a program are:\n",
        "* Helps in debugging and monitoring\n",
        "* Provides different levels of severity\n",
        "* Supports output to files and other destinations."
      ]
    },
    {
      "cell_type": "markdown",
      "metadata": {
        "id": "VhKv0Twh4Y72"
      },
      "source": [
        "Q11.What is memory management in Python?\n",
        "\n",
        "Ans: It refers to how python allocates ,uses and frees memory during execution of a program .python has a efficirnt and automatic memory management system that handles most of the work for you.\n",
        "\n",
        "Key components:\n",
        "\n",
        "* Automatic garbage collection\n",
        "* Memory allocation\n",
        "* Reference countig\n",
        "* Garbage collector\n"
      ]
    },
    {
      "cell_type": "markdown",
      "metadata": {
        "id": "hbjYEuHozKyE"
      },
      "source": [
        "Q12.  What are the basic steps involved in exception handling in Python?\n",
        "\n",
        "Ans: In Python ,exception handling is a structured way to manage error that occurs during the execution of a program.It helps prevent the program from crashing qnd allows you to handle errors gracefully.\n",
        "\n",
        "Basic steps of exception Handling:\n",
        "* Try Block\n",
        "* Except Block\n",
        "* Else Block\n",
        "* Finally Block\n"
      ]
    },
    {
      "cell_type": "markdown",
      "metadata": {
        "id": "CqVApGoe0q1p"
      },
      "source": [
        "Q13.  Why is memory management important in Python?\n",
        "\n",
        "Ans: memory management is important in Python because it:\n",
        "* keeps your code efficient.\n",
        "* Prevents errors and crashes\n",
        "* Makes program scalable and reliable\n",
        "* It helps you to write better code."
      ]
    },
    {
      "cell_type": "markdown",
      "metadata": {
        "id": "NwMUpOAd2ha7"
      },
      "source": [
        "Q14. What is the role of try and except in exception handling?\n",
        "\n",
        "Ans: The try and except block are the core components of exceptional handling in Python .They work together to catch and respond to errors that might occur during program execution.\n",
        "\n",
        "Role of try:\n",
        "* the try block is used to wrap code that might raise an exception .\n",
        "* Python will attempt to run the code inside the try block.\n",
        "* if no error occurs  ,It skips the except block.\n",
        "* If an error does occur python jumps to except block\n",
        "\n",
        "Role of Except:\n",
        "* The Except  block defines how to handle specific exceptions.\n",
        "* It only runs if an exception occurs in the try block.\n",
        "* you can catch specific types of errors or handle all exceptions using a general except."
      ]
    },
    {
      "cell_type": "markdown",
      "metadata": {
        "id": "DER1wsk47Kz9"
      },
      "source": [
        "Q15. How does Python's garbage collection system work?\n",
        "\n",
        "Ans: pythons garbage collection system is responsible for automatically managing memory specifically,reclaiming memory used by objects that are no longer needed.it helps prevent memory leaks and keeps your programs efficient.\n",
        "\n",
        "Python uses a two-part memory management system:\n",
        "\n",
        "1)Refernce counting (Primary Method):\n",
        "  * every python object has an internal counter called a reference count.\n",
        "  * This count tracks how many references(variables,data structures,etc.) point to that object.\n",
        "  * when the reference count reaches zero,python automatically frees the memory.\n",
        "\n",
        "2)Garbage collector(Handles cyclic References):\n",
        "  * Reference counting cant detect cycles ,like objects that reference   each   other.\n",
        "  * pynthon uses the gc module to detect and clean up cyclic garbage.\n",
        "  * The cyclic garbage collector runs periodically and removes such unreachable cycles."
      ]
    },
    {
      "cell_type": "markdown",
      "metadata": {
        "id": "BB0IF9edcGNL"
      },
      "source": [
        "Q16.What is the purpose of the else block in exception handling?\n",
        "\n",
        "Ans: The else block in python exception handling is used to define code that should run only if no exceptions were raised in the try block.\n",
        "\n",
        "Purpose of the else Block:\n",
        "* To seperate the error-prone code (in try) from the safe code(in els).\n",
        "* It helps keep the code cleaner and more readable.\n",
        "* It ensures that code in else runs only when everything in try succeeds.\n",
        "* if there's no error,the else block prints the result.\n",
        "* If an exception occurs,the else block is skipped."
      ]
    },
    {
      "cell_type": "markdown",
      "metadata": {
        "id": "p3XPZcK4dYzf"
      },
      "source": [
        "Q17. What are the common logging levels in Python?\n",
        "\n",
        "Ans: Python provides a built-in logging module to record events that happen during a programs execution.These events are categorized by logging levels that indicate the severity or importance of the messages.\n",
        "\n",
        "Common logging levels in python(from lowest to highest severity):\n",
        "* use DEBUG for internal details while developing.\n",
        "* use INFO for general progress updates.\n",
        "* use WARNING when something seems off but not broken.\n",
        "* use ERROR when something fails.\n",
        "* use CRITICAL when there's a severe problem affecting the entire system."
      ]
    },
    {
      "cell_type": "markdown",
      "metadata": {
        "id": "brrDVMfVe-x9"
      },
      "source": [
        "Q18. What is the difference between os.fork() and multiprocessing in Python?\n",
        "\n",
        "Ans:Both os.fork() and multiprocessing module in python are used to create anew processes,but they are very different in how they work,and when you'd typically use them.\n",
        "\n",
        "os.fork():\n",
        "* It is a low-level system call\n",
        "* It is part of os module(unix only)\n",
        "* It supports only Unix/Linux only\n",
        "* The ease of use more complex and manual\n",
        "* The data sharing is done manual (via pipes,sockets etc..)\n",
        "* It is a manual Process control\n",
        "* It's use case is Advanced,low-level tasks\n",
        "\n",
        "Multiprocessing:\n",
        "* It is a high-level python module\n",
        "* It is a part of multiprocessing module\n",
        "* It supports cross-platform(Works on windows,maxOS,Linux)\n",
        "* The ease of use easier and more pythonic\n",
        "* The data sharing is built-in tools like Queue,Pipe,Value,Array\n",
        "* It uses Process class with start(),join(),etc..\n",
        "* Its use case is General-purpose parallelism.\n",
        "\n"
      ]
    },
    {
      "cell_type": "markdown",
      "metadata": {
        "id": "atyB4XnkhmYa"
      },
      "source": [
        "Q19.What is the importance of closing a file in Python?\n",
        "\n",
        "Ans: Closing a file in python is ery important because it ensures that resources are properly released and data i safely written.When you open a file (using open()),youre using system resources,and those need to be released after youre done."
      ]
    },
    {
      "cell_type": "markdown",
      "metadata": {
        "id": "jL1MxAo-iUnK"
      },
      "source": [
        "Q20.What is the difference between file.read() and file.readline() in Python?\n",
        "\n",
        "Ans:The diffterserence between file.read() and file.readline() in Python lies in how much content they read from a file:\n",
        "\n",
        "file.read():\n",
        "* Reads the entire content of the file(or a specified number of bytes).\n",
        "* Returns it as a single string.\n",
        "* Useful when you want to load the whole file at once.\n",
        "* You can also pass a number to read a specific number of characters.\n",
        "\n",
        "file.readline():\n",
        "* Reads only one line at a time from the file.\n",
        "* Returns a single line as a string,including the newline character(\\n) at the end(unless its the last line).\n",
        "* You can call it repeatedly to read file line - by-line.\n"
      ]
    },
    {
      "cell_type": "markdown",
      "metadata": {
        "id": "ynxBiGvjlDBb"
      },
      "source": [
        "Q21. What is the logging module in Python used for?\n",
        "\n",
        "Ans:The logging module in python is used for recording messages that describes evengts that occur while a program runs.Its a powerful tool for debugging,monitoring,and error tracking,especially in large applications."
      ]
    },
    {
      "cell_type": "markdown",
      "metadata": {
        "id": "NX7xXNc0l7MK"
      },
      "source": [
        "Q22. What is the os module in Python used for in file handling?\n",
        "\n",
        "Ans: The os module in python used for working with operating system (like checking if a file exists,deleting,renaming)\n",
        "\n",
        "* os.path-For file path operations\n",
        "* shutil - For high-level file operations like copying\n",
        "* io - for core file I/O handling\n",
        "* pathlib - modern,object oriented file and path operations.\n"
      ]
    },
    {
      "cell_type": "markdown",
      "metadata": {
        "id": "nhC-4fCAnTfy"
      },
      "source": [
        "Q23.What are the challenges associated with memory management in Python?\n",
        "\n",
        "Ans:Memory management in python is largely handled automatically by the pthon memory manager and garbage collector,but there are still some challenges and pitfalls that devlopers need to be aware of are:\n",
        "\n",
        "* Memory Leaks\n",
        "* Reference Cycles\n",
        "* High memory Consumption\n",
        "* Lack of Manual Control\n",
        "* Delayed garbage collection\n",
        "* Memory Fragmentation\n",
        "* improper use of C Extensions"
      ]
    },
    {
      "cell_type": "markdown",
      "metadata": {
        "id": "J9CUtY3uoVjK"
      },
      "source": [
        "Q24. How do you raise an exception manually in Python?\n",
        "\n",
        "Ans: In Python,you can raise an exception manually using the raise statement.\n",
        "**Syntax: raise ExceptionType(\"Error message\")**\n",
        "* Use raise to throw an exception manually.\n",
        "* You can raise built-in exceptions or ustom exceptions.\n",
        "* useful for validating input,enforcing preconditions,or reporting unexpected errors."
      ]
    },
    {
      "cell_type": "markdown",
      "metadata": {
        "id": "KId9V2LJpe98"
      },
      "source": [
        "Q25. Why is it important to use multithreading in certain applications?\n",
        "\n",
        "Ans:Using **multithreading** is important in certain applications because it helps improve **performance,responsivenes**,and **resource utilization**,especially when dealing with **I/O-bound tasks.**\n",
        "\n",
        "Multithreading is important because:\n",
        "* Improved Responsiveness\n",
        "* Efficient Handling of I/O-Bound Operations\n",
        "* Concurrent Task Execution\n",
        "* Better resource utilization\n",
        "* Real time data Processing\n"
      ]
    },
    {
      "cell_type": "markdown",
      "metadata": {
        "id": "MZwo05suq6Lc"
      },
      "source": [
        "                          **PRACTICAL QUESTIONS**"
      ]
    },
    {
      "cell_type": "markdown",
      "metadata": {
        "id": "AgWCMT5RrP5t"
      },
      "source": [
        "Q1. How can you open a file for writing in Python and write a string to it?"
      ]
    },
    {
      "cell_type": "code",
      "execution_count": null,
      "metadata": {
        "id": "Yr3AY9HLrZ1-"
      },
      "outputs": [],
      "source": [
        "# How can you open a file for writing in Python and write a string to it\n",
        "with open(\"test.txt\",\"w\") as f:\n",
        "    f.write(\"This is my first line\")"
      ]
    },
    {
      "cell_type": "markdown",
      "metadata": {
        "id": "HaygRNfrr82m"
      },
      "source": [
        "Q2.Write a Python program to read the contents of a file and print each line?"
      ]
    },
    {
      "cell_type": "code",
      "execution_count": null,
      "metadata": {
        "colab": {
          "base_uri": "https://localhost:8080/"
        },
        "id": "8016sXcrsBqv",
        "outputId": "ee108479-36a8-41b1-cf6a-d2abf9d17140"
      },
      "outputs": [
        {
          "name": "stdout",
          "output_type": "stream",
          "text": [
            "This is my first line\n"
          ]
        }
      ],
      "source": [
        "#Write a Python program to read the contents of a file and print each line\n",
        "with open(\"test.txt\",\"r\") as f:\n",
        "    print(f.read())"
      ]
    },
    {
      "cell_type": "markdown",
      "metadata": {
        "id": "dlOnttissMuu"
      },
      "source": [
        "Q3.How would you handle a case where the file doesn't exist while trying to open it for reading?"
      ]
    },
    {
      "cell_type": "code",
      "execution_count": null,
      "metadata": {
        "colab": {
          "base_uri": "https://localhost:8080/"
        },
        "id": "F9KveO64sSth",
        "outputId": "74414526-3465-4757-dfd7-cdf01ac72d5a"
      },
      "outputs": [
        {
          "name": "stdout",
          "output_type": "stream",
          "text": [
            "[Errno 2] No such file or directory: 'test1.txt'\n"
          ]
        }
      ],
      "source": [
        "#How would you handle a case where the file doesn't exist while trying to open it for reading\n",
        "try:\n",
        " with open(\"test1.txt\",\"r\") as f:\n",
        "    print(f.read())\n",
        "except FileNotFoundError as e:\n",
        "    print(e)\n"
      ]
    },
    {
      "cell_type": "code",
      "execution_count": null,
      "metadata": {
        "id": "_QyYYcLzs8ZE"
      },
      "outputs": [],
      "source": [
        "Q4. Write a Python script that reads from one file and writes its content to another file?"
      ]
    },
    {
      "cell_type": "code",
      "execution_count": null,
      "metadata": {
        "colab": {
          "base_uri": "https://localhost:8080/"
        },
        "id": "CWPsPMrRtCtp",
        "outputId": "2f2154c3-ee4b-40dc-ce34-ff579a4b552a"
      },
      "outputs": [
        {
          "name": "stdout",
          "output_type": "stream",
          "text": [
            "File content copied\n"
          ]
        }
      ],
      "source": [
        "# Write a Python script that reads from one file and writes its content to another file\n",
        "with open(\"sample.txt\",\"w\") as f:\n",
        "    f.write(\"This is my first script and this is to test the copy of my file to another file\")\n",
        "\n",
        "\n",
        "source_file =\"sample.txt\"\n",
        "destination_file=\"destination.txt\"\n",
        "try:\n",
        "  with open(source_file,'r') as src,open(destination_file,'w') as dest:\n",
        "       for line in src:\n",
        "        dest.write(line)\n",
        "        print(\"File content copied\")\n",
        "except FileNotFoundError:\n",
        "    print(f\"File '{source_file}' not found\")\n",
        "except Exception as e:\n",
        "    print(f\"An error occurred: {e}\")"
      ]
    },
    {
      "cell_type": "markdown",
      "metadata": {
        "id": "ZUl_qqjhBRJQ"
      },
      "source": [
        "Q5.How would you catch and handle division by zero error in Python?"
      ]
    },
    {
      "cell_type": "code",
      "execution_count": null,
      "metadata": {
        "colab": {
          "base_uri": "https://localhost:8080/"
        },
        "id": "5r-waRQnBXDW",
        "outputId": "277dd57a-2655-4ba2-f510-fa90558b4dde"
      },
      "outputs": [
        {
          "name": "stdout",
          "output_type": "stream",
          "text": [
            "division by zero  :Division by zero error is not allowed\n"
          ]
        }
      ],
      "source": [
        "#How would you catch and handle division by zero error in Python\n",
        "\n",
        "try:\n",
        "    a=10\n",
        "    b=0\n",
        "    result=a/b\n",
        "    print(\"Result:\",result)\n",
        "except ZeroDivisionError as e:\n",
        "    print(e,\" :Division by zero error is not allowed\")\n"
      ]
    },
    {
      "cell_type": "markdown",
      "metadata": {
        "id": "Shr8wOuLCSRh"
      },
      "source": [
        "Q6.Write a Python program that logs an error message to a log file when a division by zero exception occurs?"
      ]
    },
    {
      "cell_type": "code",
      "execution_count": null,
      "metadata": {
        "colab": {
          "base_uri": "https://localhost:8080/"
        },
        "id": "dg7kpiNBCYEN",
        "outputId": "f31041a2-ae30-41cb-9c54-84b0ae7b732c"
      },
      "outputs": [
        {
          "name": "stderr",
          "output_type": "stream",
          "text": [
            "ERROR:root:Division by zero error occurred: division by zero\n"
          ]
        },
        {
          "name": "stdout",
          "output_type": "stream",
          "text": [
            "Error occured.Check the log file for details.\n"
          ]
        }
      ],
      "source": [
        "#Write a Python program that logs an error message to a log file when a division by zero exception occurs\n",
        "import logging\n",
        "\n",
        "logging.basicConfig(filename=\"error_log.txt\",level=logging.ERROR)\n",
        "\n",
        "try:\n",
        "  a=10\n",
        "  b=0\n",
        "  result=a/b\n",
        "  print(\"Result:\",result)\n",
        "except ZeroDivisionError as e:\n",
        "    logging.error(\"Division by zero error occurred: %s\",str(e))\n",
        "    print(\"Error occured.Check the log file for details.\")"
      ]
    },
    {
      "cell_type": "markdown",
      "metadata": {
        "id": "P5fl5YV8DQ2Y"
      },
      "source": [
        "Q7. How do you log information at different levels (INFO, ERROR, WARNING) in Python using the logging module?"
      ]
    },
    {
      "cell_type": "code",
      "execution_count": null,
      "metadata": {
        "colab": {
          "base_uri": "https://localhost:8080/"
        },
        "id": "95Xaf7RGDWAV",
        "outputId": "18205730-4026-4f5a-e1cb-c55db2e33d50"
      },
      "outputs": [
        {
          "name": "stderr",
          "output_type": "stream",
          "text": [
            "WARNING:root:This is a warning message\n",
            "ERROR:root:This is an error message\n"
          ]
        }
      ],
      "source": [
        "# How do you log information at different levels (INFO, ERROR, WARNING) in Python using the logging module\n",
        "import logging\n",
        "\n",
        "logging.basicConfig(filename='testting.log',level=logging.INFO)\n",
        "logging.info(\"This is an info message\")\n",
        "\n",
        "logging.basicConfig(level=logging.WARNING)\n",
        "logging.warning(\"This is a warning message\")\n",
        "\n",
        "logging.basicConfig(level=logging.ERROR)\n",
        "logging.error(\"This is an error message\")"
      ]
    },
    {
      "cell_type": "markdown",
      "metadata": {
        "id": "mPh7UjKQElzb"
      },
      "source": [
        "Q8.Write a program to handle a file opening error using exception handling?"
      ]
    },
    {
      "cell_type": "code",
      "execution_count": null,
      "metadata": {
        "colab": {
          "base_uri": "https://localhost:8080/"
        },
        "id": "PtbYd5_tEyI1",
        "outputId": "da390205-76e7-4fb9-a694-90874a983e40"
      },
      "outputs": [
        {
          "name": "stdout",
          "output_type": "stream",
          "text": [
            "An error occurred: name 'file_name' is not defined\n"
          ]
        }
      ],
      "source": [
        "#Write a program to handle a file opening error using exception handling\n",
        "file_name:\"nonexisting_file.txt\"\n",
        "try:\n",
        "  with open(file_name,'r') as file:\n",
        "    content=file.read()\n",
        "    print(content)\n",
        "except FileNotFoundError:\n",
        "    print(f\"File '{file_name}' not found\")\n",
        "except Exception as e:\n",
        "    print(f\"An error occurred: {e}\")"
      ]
    },
    {
      "cell_type": "markdown",
      "metadata": {
        "id": "4SsLPL8RFsgr"
      },
      "source": [
        "Q9.How can you read a file line by line and store its content in a list in Python?"
      ]
    },
    {
      "cell_type": "code",
      "execution_count": null,
      "metadata": {
        "colab": {
          "base_uri": "https://localhost:8080/"
        },
        "id": "akneGQ4eFzHF",
        "outputId": "d69f55c7-d842-4207-8e06-199c45a6b0d8"
      },
      "outputs": [
        {
          "name": "stdout",
          "output_type": "stream",
          "text": [
            "['This is my first line']\n"
          ]
        }
      ],
      "source": [
        "#How can you read a file line by line and store its content in a list in Python\n",
        "lines=[]\n",
        "with open(\"test.txt\",\"r\") as file:\n",
        "    lines=[line.strip() for line in file.readlines()]\n",
        "print(lines)"
      ]
    },
    {
      "cell_type": "markdown",
      "metadata": {
        "id": "QczNt_YNG9AS"
      },
      "source": [
        "Q10. How can you append data to an existing file in Python?"
      ]
    },
    {
      "cell_type": "code",
      "execution_count": null,
      "metadata": {
        "colab": {
          "base_uri": "https://localhost:8080/"
        },
        "id": "RVp-2gu_HC7T",
        "outputId": "1958f461-fa50-41aa-91a3-165ca01bdcd0"
      },
      "outputs": [
        {
          "name": "stdout",
          "output_type": "stream",
          "text": [
            "This is my first lineThis is a new line to append \n",
            "This is a new line to append\n",
            "\n"
          ]
        }
      ],
      "source": [
        "#How can you append data to an existing file in Python\n",
        "with open(\"test.txt\",\"a\") as file:\n",
        "    file.write(\"This is a new line to append\\n\")\n",
        "\n",
        "with open(\"test.txt\",\"r\") as file:\n",
        "    print(file.read())"
      ]
    },
    {
      "cell_type": "markdown",
      "metadata": {
        "id": "Ll4j-kwBHnDd"
      },
      "source": [
        "Q11.Write a Python program that uses a try-except block to handle an error when attempting to access a\n",
        "dictionary key that doesn't exist?"
      ]
    },
    {
      "cell_type": "code",
      "execution_count": null,
      "metadata": {
        "colab": {
          "base_uri": "https://localhost:8080/"
        },
        "id": "V7D9wDY8HsXy",
        "outputId": "1d2003e1-1e2f-4dda-dcdc-69c095d42688"
      },
      "outputs": [
        {
          "name": "stdout",
          "output_type": "stream",
          "text": [
            "The key 'Rohit' does not exist in the dictionary.\n"
          ]
        }
      ],
      "source": [
        "#Write a Python program that uses a try-except block to handle an error when attempting to access a\n",
        "#dictionary key that doesn't exist\n",
        "\n",
        "student_marks={\"Alice\":92,\"prudhvi\":75,\"akash\":87}\n",
        "\n",
        "try:\n",
        "  name=\"Rohit\"\n",
        "  score=student_marks[name]\n",
        "  print(f\"{name}'s score is {score}\")\n",
        "except KeyError:\n",
        "    print(f\"The key '{name}' does not exist in the dictionary.\")"
      ]
    },
    {
      "cell_type": "markdown",
      "metadata": {
        "id": "vldU6sbgIfPX"
      },
      "source": [
        "Q12.Write a program that demonstrates using multiple except blocks to handle different types of exceptions?"
      ]
    },
    {
      "cell_type": "code",
      "execution_count": null,
      "metadata": {
        "colab": {
          "base_uri": "https://localhost:8080/"
        },
        "id": "evWYmkCkIocW",
        "outputId": "6ecaffdc-f6dd-433a-d3ba-bc52b04478f5"
      },
      "outputs": [
        {
          "name": "stdout",
          "output_type": "stream",
          "text": [
            "enter key to divide 100 by its value b\n",
            "Division by zero is not allowed.\n"
          ]
        }
      ],
      "source": [
        "#Write a program that demonstrates using multiple except blocks to handle different types of exceptions?\n",
        "data={\"a\":10,\"b\":0}\n",
        "try:\n",
        "  key=input(\"enter key to divide 100 by its value \")\n",
        "  value=data[key]\n",
        "  result=100/value\n",
        "  print(f\"result: 100/{value}={result}\")\n",
        "except KeyError:\n",
        "  print(\"The key you entered does not exist in the dictionary.\")\n",
        "except ZeroDivisionError:\n",
        "  print(\"Division by zero is not allowed.\")\n",
        "except Exception as e:\n",
        "  print(f\"An unexpected error occurred: {e}\")\n",
        "except valuerror:\n",
        "  print(\"Invalid input.Please enter a valid number.\")\n"
      ]
    },
    {
      "cell_type": "markdown",
      "metadata": {
        "id": "VRGI-YswKWNa"
      },
      "source": [
        "Q13. How would you check if a file exists before attempting to read it in Python\n"
      ]
    },
    {
      "cell_type": "code",
      "execution_count": null,
      "metadata": {
        "colab": {
          "base_uri": "https://localhost:8080/"
        },
        "id": "0baAucoMKcGL",
        "outputId": "74a2e1e2-7d56-4be0-c16d-d023f0138c02"
      },
      "outputs": [
        {
          "name": "stdout",
          "output_type": "stream",
          "text": [
            "The file 'example.txt' does not exist.\n"
          ]
        }
      ],
      "source": [
        "# How would you check if a file exists before attempting to read it in Python\n",
        "import os\n",
        "filename =\"example.txt\"\n",
        "\n",
        "if os.path.exists(filename):\n",
        "  with open(filename,\"r\")as file:\n",
        "    content=file.read()\n",
        "    print(content)\n",
        "else:\n",
        "  print(f\"The file '{filename}' does not exist.\")"
      ]
    },
    {
      "cell_type": "markdown",
      "metadata": {
        "id": "c4jOgarpLVgl"
      },
      "source": [
        "Q14.Write a program that uses the logging module to log both informational and error messages?"
      ]
    },
    {
      "cell_type": "code",
      "execution_count": null,
      "metadata": {
        "colab": {
          "base_uri": "https://localhost:8080/"
        },
        "id": "Hh-pixo1LZ2h",
        "outputId": "53aa2ad6-6700-4308-a7df-bf8f503ce77e"
      },
      "outputs": [
        {
          "name": "stderr",
          "output_type": "stream",
          "text": [
            "ERROR:root:Division by zero error occurred\n",
            "ERROR:root:Exception occured\n",
            "Traceback (most recent call last):\n",
            "  File \"/tmp/ipython-input-31-3081344021.py\", line 8, in divide_numbers\n",
            "    result= a / b\n",
            "            ~~^~~\n",
            "ZeroDivisionError: division by zero\n"
          ]
        }
      ],
      "source": [
        "#Write a program that uses the logging module to log both informational and error messages\n",
        "import logging\n",
        "logging.basicConfig(filename=\"error_log.txt\",level=logging.ERROR)\n",
        "\n",
        "def divide_numbers(a,b):\n",
        "  logging.info(f\"trying to divide {a} by {b}\")\n",
        "  try:\n",
        "    result= a / b\n",
        "    logging.info(f\"Result:{result}\")\n",
        "    return result\n",
        "  except ZeroDivisionError:\n",
        "    logging.error(\"Division by zero error occurred\")\n",
        "    logging.exception(\"Exception occured\")\n",
        "  except Exception as e:\n",
        "    logging.error(f\"An error occurred: {e}\")\n",
        "    logging.exception(\"Exception occured\")\n",
        "\n",
        "\n",
        "divide_numbers(10,0)"
      ]
    },
    {
      "cell_type": "markdown",
      "metadata": {
        "id": "Zr18tOThYUh8"
      },
      "source": [
        "Q15.Write a Python program that prints the content of a file and handles the case when the file is empty?"
      ]
    },
    {
      "cell_type": "code",
      "execution_count": null,
      "metadata": {
        "colab": {
          "base_uri": "https://localhost:8080/"
        },
        "id": "BUpP4-t1YaZ5",
        "outputId": "aceed4b1-8aa2-4f15-9d5c-3bbe5720783c"
      },
      "outputs": [
        {
          "name": "stdout",
          "output_type": "stream",
          "text": [
            "Content of 'test.txt':\n",
            "This is my first lineThis is a new line to append \n",
            "This is a new line to append\n",
            "\n"
          ]
        }
      ],
      "source": [
        "#Write a Python program that prints the content of a file and handles the case when the file is empty\n",
        "def print_content(file_name):\n",
        "  try:\n",
        "    with open(file_name,'r') as file:\n",
        "      content =file.read()\n",
        "      if not content:\n",
        "        print(f\"The file '{file_name}' is empty.\")\n",
        "      else:\n",
        "        print(f\"Content of '{file_name}':\")\n",
        "        print(content)\n",
        "  except FileNotFoundError:\n",
        "    print(f\"File '{file_name}' not found.\")\n",
        "  except Exception as e:\n",
        "    print(f\"An error occurred: {e}\")\n",
        "\n",
        "file_name=\"test.txt\"\n",
        "print_content(file_name)"
      ]
    },
    {
      "cell_type": "markdown",
      "metadata": {
        "id": "sQVarQ-ZaDgC"
      },
      "source": [
        "Q16.Demonstrate how to use memory profiling to check the memory usage of a small program?"
      ]
    },
    {
      "cell_type": "code",
      "source": [
        "#Demonstrate how to use memory profiling to check the memory usage of a small program\n"
      ],
      "metadata": {
        "colab": {
          "base_uri": "https://localhost:8080/",
          "height": 106
        },
        "id": "1agt0dw4r1LS",
        "outputId": "74d906c0-9958-45c3-c45e-4e89977e795a"
      },
      "execution_count": null,
      "outputs": [
        {
          "output_type": "error",
          "ename": "SyntaxError",
          "evalue": "invalid syntax (ipython-input-57-91379346.py, line 17)",
          "traceback": [
            "\u001b[0;36m  File \u001b[0;32m\"/tmp/ipython-input-57-91379346.py\"\u001b[0;36m, line \u001b[0;32m17\u001b[0m\n\u001b[0;31m    python -m Memory_profiler\u001b[0m\n\u001b[0m              ^\u001b[0m\n\u001b[0;31mSyntaxError\u001b[0m\u001b[0;31m:\u001b[0m invalid syntax\n"
          ]
        }
      ]
    },
    {
      "cell_type": "markdown",
      "metadata": {
        "id": "LCIBuwoZaZ_r"
      },
      "source": [
        "Q17.Write a Python program to create and write a list of numbers to a file, one number per line?"
      ]
    },
    {
      "cell_type": "code",
      "execution_count": null,
      "metadata": {
        "id": "LMlREOIUai9B"
      },
      "outputs": [],
      "source": [
        "#Write a Python program to create and write a list of numbers to a file, one number per lineF\n",
        "def write_numbers_to_file(numbers,file_name):\n",
        "  try:\n",
        "    with open(file_name,'w') as file:\n",
        "      for number in numbers:\n",
        "        file.write(f\"{number}\\n\")\n",
        "        print(f\"sucessfully wrote {len(numbers)} numbers to '{file_name}'.\")\n",
        "  except Exception as e:\n",
        "    print(f\"An error occurred: {e}\")\n",
        "\n",
        "    numbers_list=[1,2,3,4,5,6,7,8,9,10]\n",
        "    file_name=\"numbers.txt\"\n",
        "    write_numbers_to_file(file_name,numbers_list)"
      ]
    },
    {
      "cell_type": "markdown",
      "metadata": {
        "id": "6ONA8Mm4cD7o"
      },
      "source": [
        "Q18.How would you implement a basic logging setup that logs to a file with rotation after 1Mb?"
      ]
    },
    {
      "cell_type": "code",
      "execution_count": null,
      "metadata": {
        "colab": {
          "base_uri": "https://localhost:8080/"
        },
        "id": "H1ew9IHJcLcz",
        "outputId": "5874fd24-b0a8-457f-9e1a-3f61cbebca11"
      },
      "outputs": [
        {
          "output_type": "stream",
          "name": "stderr",
          "text": [
            "DEBUG:MyLogger:this is log message number 0\n",
            "DEBUG:MyLogger:this is log message number 1\n",
            "DEBUG:MyLogger:this is log message number 2\n",
            "DEBUG:MyLogger:this is log message number 3\n",
            "DEBUG:MyLogger:this is log message number 4\n",
            "DEBUG:MyLogger:this is log message number 5\n",
            "DEBUG:MyLogger:this is log message number 6\n",
            "DEBUG:MyLogger:this is log message number 7\n",
            "DEBUG:MyLogger:this is log message number 8\n",
            "DEBUG:MyLogger:this is log message number 9\n",
            "DEBUG:MyLogger:this is log message number 10\n",
            "DEBUG:MyLogger:this is log message number 11\n",
            "DEBUG:MyLogger:this is log message number 12\n",
            "DEBUG:MyLogger:this is log message number 13\n",
            "DEBUG:MyLogger:this is log message number 14\n",
            "DEBUG:MyLogger:this is log message number 15\n",
            "DEBUG:MyLogger:this is log message number 16\n",
            "DEBUG:MyLogger:this is log message number 17\n",
            "DEBUG:MyLogger:this is log message number 18\n",
            "DEBUG:MyLogger:this is log message number 19\n",
            "DEBUG:MyLogger:this is log message number 20\n",
            "DEBUG:MyLogger:this is log message number 21\n",
            "DEBUG:MyLogger:this is log message number 22\n",
            "DEBUG:MyLogger:this is log message number 23\n",
            "DEBUG:MyLogger:this is log message number 24\n",
            "DEBUG:MyLogger:this is log message number 25\n",
            "DEBUG:MyLogger:this is log message number 26\n",
            "DEBUG:MyLogger:this is log message number 27\n",
            "DEBUG:MyLogger:this is log message number 28\n",
            "DEBUG:MyLogger:this is log message number 29\n",
            "DEBUG:MyLogger:this is log message number 30\n",
            "DEBUG:MyLogger:this is log message number 31\n",
            "DEBUG:MyLogger:this is log message number 32\n",
            "DEBUG:MyLogger:this is log message number 33\n",
            "DEBUG:MyLogger:this is log message number 34\n",
            "DEBUG:MyLogger:this is log message number 35\n",
            "DEBUG:MyLogger:this is log message number 36\n",
            "DEBUG:MyLogger:this is log message number 37\n",
            "DEBUG:MyLogger:this is log message number 38\n",
            "DEBUG:MyLogger:this is log message number 39\n",
            "DEBUG:MyLogger:this is log message number 40\n",
            "DEBUG:MyLogger:this is log message number 41\n",
            "DEBUG:MyLogger:this is log message number 42\n",
            "DEBUG:MyLogger:this is log message number 43\n",
            "DEBUG:MyLogger:this is log message number 44\n",
            "DEBUG:MyLogger:this is log message number 45\n",
            "DEBUG:MyLogger:this is log message number 46\n",
            "DEBUG:MyLogger:this is log message number 47\n",
            "DEBUG:MyLogger:this is log message number 48\n",
            "DEBUG:MyLogger:this is log message number 49\n",
            "DEBUG:MyLogger:this is log message number 50\n",
            "DEBUG:MyLogger:this is log message number 51\n",
            "DEBUG:MyLogger:this is log message number 52\n",
            "DEBUG:MyLogger:this is log message number 53\n",
            "DEBUG:MyLogger:this is log message number 54\n",
            "DEBUG:MyLogger:this is log message number 55\n",
            "DEBUG:MyLogger:this is log message number 56\n",
            "DEBUG:MyLogger:this is log message number 57\n",
            "DEBUG:MyLogger:this is log message number 58\n",
            "DEBUG:MyLogger:this is log message number 59\n",
            "DEBUG:MyLogger:this is log message number 60\n",
            "DEBUG:MyLogger:this is log message number 61\n",
            "DEBUG:MyLogger:this is log message number 62\n",
            "DEBUG:MyLogger:this is log message number 63\n",
            "DEBUG:MyLogger:this is log message number 64\n",
            "DEBUG:MyLogger:this is log message number 65\n",
            "DEBUG:MyLogger:this is log message number 66\n",
            "DEBUG:MyLogger:this is log message number 67\n",
            "DEBUG:MyLogger:this is log message number 68\n",
            "DEBUG:MyLogger:this is log message number 69\n",
            "DEBUG:MyLogger:this is log message number 70\n",
            "DEBUG:MyLogger:this is log message number 71\n",
            "DEBUG:MyLogger:this is log message number 72\n",
            "DEBUG:MyLogger:this is log message number 73\n",
            "DEBUG:MyLogger:this is log message number 74\n",
            "DEBUG:MyLogger:this is log message number 75\n",
            "DEBUG:MyLogger:this is log message number 76\n",
            "DEBUG:MyLogger:this is log message number 77\n",
            "DEBUG:MyLogger:this is log message number 78\n",
            "DEBUG:MyLogger:this is log message number 79\n",
            "DEBUG:MyLogger:this is log message number 80\n",
            "DEBUG:MyLogger:this is log message number 81\n",
            "DEBUG:MyLogger:this is log message number 82\n",
            "DEBUG:MyLogger:this is log message number 83\n",
            "DEBUG:MyLogger:this is log message number 84\n",
            "DEBUG:MyLogger:this is log message number 85\n",
            "DEBUG:MyLogger:this is log message number 86\n",
            "DEBUG:MyLogger:this is log message number 87\n",
            "DEBUG:MyLogger:this is log message number 88\n",
            "DEBUG:MyLogger:this is log message number 89\n",
            "DEBUG:MyLogger:this is log message number 90\n",
            "DEBUG:MyLogger:this is log message number 91\n",
            "DEBUG:MyLogger:this is log message number 92\n",
            "DEBUG:MyLogger:this is log message number 93\n",
            "DEBUG:MyLogger:this is log message number 94\n",
            "DEBUG:MyLogger:this is log message number 95\n",
            "DEBUG:MyLogger:this is log message number 96\n",
            "DEBUG:MyLogger:this is log message number 97\n",
            "DEBUG:MyLogger:this is log message number 98\n",
            "DEBUG:MyLogger:this is log message number 99\n"
          ]
        }
      ],
      "source": [
        "#How would you implement a basic logging setup that logs to a file with rotation after 1MB\n",
        "\n",
        "import logging\n",
        "from logging.handlers import RotatingFileHandler\n",
        "\n",
        "logger=logging.getLogger(\"MyLogger\")\n",
        "logger.setLevel(logging.DEBUG)\n",
        "\n",
        "handler=RotatingFileHandler(\"my_log.log\",maxBytes=1000000,backupCount=5)\n",
        "formatter=logging.Formatter(\"%(asctime)s - %(levelname)s - %(message)s\")\n",
        "handler.setFormatter(formatter)\n",
        "\n",
        "logger.addHandler(handler)\n",
        "for i in range(100):\n",
        "  logger.debug(f\"this is log message number {i}\")"
      ]
    },
    {
      "cell_type": "code",
      "source": [
        "Q19.Write a program that handles both IndexError and KeyError using a try-except block?"
      ],
      "metadata": {
        "id": "keN_ppnCjeQk"
      },
      "execution_count": null,
      "outputs": []
    },
    {
      "cell_type": "code",
      "source": [
        "#Write a program that handles both IndexError and KeyError using a try-except block\n",
        "def handle_errors():\n",
        "  my_list=[10,20,40]\n",
        "  my_dict={\"a\":1,\"b\":2}\n",
        "\n",
        "  try:\n",
        "     print(\"Accessing index 4 from list:\")\n",
        "     print(my_list[5])\n",
        "  except IndexError as e:\n",
        "     print(\"IndexError occured:\",e)\n",
        "\n",
        "  try:\n",
        "      print(\"Accessing key 'c' from dictionary:\")\n",
        "      print(my_dict[\"c\"])\n",
        "  except KeyError as e:\n",
        "      print(\"KeyError occured:\",e)\n",
        "\n",
        "handle_errors()"
      ],
      "metadata": {
        "colab": {
          "base_uri": "https://localhost:8080/"
        },
        "id": "uqTAtG_KjoUd",
        "outputId": "f48bb213-47d1-41d5-9984-68afad2ceaa6"
      },
      "execution_count": null,
      "outputs": [
        {
          "output_type": "stream",
          "name": "stdout",
          "text": [
            "Accessing index 4 from list:\n",
            "IndexError occured: list index out of range\n",
            "Accessing key 'c' from dictionary:\n",
            "KeyError occured: 'c'\n"
          ]
        }
      ]
    },
    {
      "cell_type": "markdown",
      "source": [
        "q20.F How would you open a file and read its contents using a context manager in Python"
      ],
      "metadata": {
        "id": "D9f2RJnLlPdD"
      }
    },
    {
      "cell_type": "code",
      "source": [
        "# How would you open a file and read its contents using a context manager in Python\n",
        "with open(\"test.txt\",\"r\") as file:\n",
        "  content=file.read()\n",
        "  print(content)"
      ],
      "metadata": {
        "colab": {
          "base_uri": "https://localhost:8080/"
        },
        "id": "Dnfb3i06lWUq",
        "outputId": "2d0fa025-6e6f-48d1-8da4-ae7fd7911ce0"
      },
      "execution_count": null,
      "outputs": [
        {
          "output_type": "stream",
          "name": "stdout",
          "text": [
            "This is my first lineThis is a new line to append \n",
            "This is a new line to append\n",
            "\n"
          ]
        }
      ]
    },
    {
      "cell_type": "markdown",
      "source": [
        "Q21.Write a Python program that reads a file and prints the number of occurrences of a specific word?"
      ],
      "metadata": {
        "id": "p9so5FYJmGeX"
      }
    },
    {
      "cell_type": "code",
      "source": [
        "#Write a Python program that reads a file and prints the number of occurrences of a specific word\n",
        "def count_word(filename,Target_word):\n",
        "  try:\n",
        "    with open(filename,'r') as file:\n",
        "      content=file.read()\n",
        "      words=content.lower().split()\n",
        "      count=words.count(Target_word.lower())\n",
        "      print(f\"the word'{Target_word}'occurs {count} times in '{filename}'.\")\n",
        "  except FileNotFoundError:\n",
        "    print(f\"File '{filename}' not found.\")\n",
        "  except Exception as e:\n",
        "    print(f\"An error occurred: {e}\")\n",
        "\n",
        "\n",
        "filename=\"test.txt\"\n",
        "Target_word=\"this\"\n",
        "count_word(filename,Target_word)"
      ],
      "metadata": {
        "colab": {
          "base_uri": "https://localhost:8080/"
        },
        "id": "nxh8hfx8mOmz",
        "outputId": "90b25b89-bc54-4973-f17f-7792a6a67a68"
      },
      "execution_count": null,
      "outputs": [
        {
          "output_type": "stream",
          "name": "stdout",
          "text": [
            "the word'this'occurs 2 times in 'test.txt'.\n"
          ]
        }
      ]
    },
    {
      "cell_type": "markdown",
      "source": [
        "Q22.How can you check if a file is empty before attempting to read its contents?"
      ],
      "metadata": {
        "id": "yawm0jn4nzQi"
      }
    },
    {
      "cell_type": "code",
      "source": [
        "#How can you check if a file is empty before attempting to read its contents\n",
        "import os\n",
        "filename=\"my_file.txt\"\n",
        "if os.path.exists(filename) and os.access(filename,os.R_OK):\n",
        "    print(f\"The file '{filename}' exists and is readable.\")\n",
        "    with open(filename,'r') as file:\n",
        "      content=file.read()\n",
        "      print(\"File contents:\")\n",
        "      print(content)\n",
        "else:\n",
        "  print(f\"The file '{filename}' does not exist or is not readable\")"
      ],
      "metadata": {
        "colab": {
          "base_uri": "https://localhost:8080/"
        },
        "id": "NYRyKSKRoC2U",
        "outputId": "cf553fce-33b2-4a23-945f-6652e21e6de0"
      },
      "execution_count": null,
      "outputs": [
        {
          "output_type": "stream",
          "name": "stdout",
          "text": [
            "The file 'my_file.txt' does not exist or is not readable\n"
          ]
        }
      ]
    },
    {
      "cell_type": "markdown",
      "source": [
        "Q23.Write a Python program that writes to a log file when an error occurs during file handling?"
      ],
      "metadata": {
        "id": "TYEch78dpgPv"
      }
    },
    {
      "cell_type": "code",
      "source": [
        "#Write a Python program that writes to a log file when an error occurs during file handling.\n",
        "import logging\n",
        "logging.basicConfig(filename=\"error_log.txt\",level=logging.ERROR)\n",
        "\n",
        "def read_file(filename):\n",
        "  try:\n",
        "    with open(filename,'r') as file:\n",
        "      content=file.read()\n",
        "      print(\"File contents:\")\n",
        "      print(content)\n",
        "  except FileNotFoundError:\n",
        "    logging.error(f\"File '{filename}' not found.\")\n",
        "  except Exception as e:\n",
        "    logging.error(f\"An error occurred while reading '{filename}': {e}\")\n",
        "\n",
        "\n",
        "read_file(\"test.txt\")"
      ],
      "metadata": {
        "colab": {
          "base_uri": "https://localhost:8080/"
        },
        "id": "AvmcrwRUpnnU",
        "outputId": "173e8670-8e86-41a7-92e3-4170b1464ba8"
      },
      "execution_count": null,
      "outputs": [
        {
          "output_type": "stream",
          "name": "stdout",
          "text": [
            "File contents:\n",
            "This is my first lineThis is a new line to append \n",
            "This is a new line to append\n",
            "\n"
          ]
        }
      ]
    }
  ],
  "metadata": {
    "colab": {
      "provenance": []
    },
    "kernelspec": {
      "display_name": "Python 3",
      "name": "python3"
    },
    "language_info": {
      "name": "python"
    }
  },
  "nbformat": 4,
  "nbformat_minor": 0
}